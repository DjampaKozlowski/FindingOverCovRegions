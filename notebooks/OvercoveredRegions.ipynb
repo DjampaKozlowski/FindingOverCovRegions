{
 "cells": [
  {
   "cell_type": "code",
   "execution_count": 2,
   "id": "569e237e",
   "metadata": {
    "ExecuteTime": {
     "end_time": "2022-04-06T07:50:14.310753Z",
     "start_time": "2022-04-06T07:50:14.272285Z"
    }
   },
   "outputs": [],
   "source": [
    "from overcovregions.read_and_write import read_bedgraphlike_file\n",
    "from overcovregions.coverage import find_overcov_regions"
   ]
  },
  {
   "cell_type": "code",
   "execution_count": 1,
   "id": "d70689d9",
   "metadata": {
    "ExecuteTime": {
     "end_time": "2022-04-06T07:50:12.202146Z",
     "start_time": "2022-04-06T07:50:11.586308Z"
    }
   },
   "outputs": [],
   "source": [
    "import pandas as pd\n",
    "pd.set_option('display.max_columns', None)\n",
    "%load_ext autoreload\n",
    "%autoreload 2"
   ]
  },
  {
   "cell_type": "markdown",
   "id": "b11117ee",
   "metadata": {},
   "source": [
    "# Script usage"
   ]
  },
  {
   "cell_type": "markdown",
   "id": "56cec591",
   "metadata": {},
   "source": [
    "```\n",
    "Usage : \n",
    "-------\n",
    "\n",
    "python FindOverCovRegions.py [-h] -i INPUTFILEPATH -o OUTPUTDIR -p PREFIX -d DEPTH -m MINOVERCOVREGIONSIZE -s SLIDINGWINSIZE\n",
    "```"
   ]
  },
  {
   "cell_type": "markdown",
   "id": "f232e6a1",
   "metadata": {},
   "source": [
    "The input file can be obtained using bedtools genomecov (https://bedtools.readthedocs.io/en/latest/content/tools/genomecov.html) with alignments bam files as follow:\n",
    "\n",
    "```\n",
    "bedtools genomecov -ibam <alignment.bam> [-d | -d split] ..\n",
    "```\n",
    "Each position must have a coverage depth value associated (per-base reports), even if it's 0 (see option -d or -d split in bedtools genomecov).\n",
    "\n",
    "/!\\ The BAM file must be sorted by position. Using samtools sort aln.bam aln.sorted will suffice.\n",
    "\n",
    "\n",
    "The bedtools ouput file (input file of this script) must be formated as follow :\n",
    "\n",
    "```\n",
    "chr1   1    0   \n",
    "chr1   2    5\n",
    "chr1   3   10\n",
    "...\n",
    "```\n",
    "\n",
    "where :\n",
    "- the first column is the chr/scaffold/contig identifier\n",
    "- the second column is the position\n",
    "- the third column is the coverage depth.\n",
    "\n",
    "(see '../test/begraph-like_sample.txt' for an example)"
   ]
  },
  {
   "cell_type": "markdown",
   "id": "d0f936d5",
   "metadata": {},
   "source": [
    "example on the toy dataset:"
   ]
  },
  {
   "cell_type": "markdown",
   "id": "51b2d6e4",
   "metadata": {},
   "source": [
    "``` \n",
    "python FindOverCovRegions.py -i test/begraph-like_sample.txt -o test/ -prefix 'example_overcovregions' -d 11 -m 4 -s 3\n",
    "```"
   ]
  },
  {
   "cell_type": "markdown",
   "id": "9fadd1b4",
   "metadata": {},
   "source": [
    "# Use case "
   ]
  },
  {
   "cell_type": "markdown",
   "id": "7bc3060a",
   "metadata": {},
   "source": [
    "## Data importation"
   ]
  },
  {
   "cell_type": "code",
   "execution_count": 46,
   "id": "c17337c0",
   "metadata": {
    "ExecuteTime": {
     "end_time": "2022-04-06T10:16:03.577340Z",
     "start_time": "2022-04-06T10:16:03.546864Z"
    }
   },
   "outputs": [],
   "source": [
    "### Open the bedgraph like file\n",
    "#\n",
    "df_data = read_bedgraphlike_file('../test/begraph-like_sample.txt')\n",
    "\n",
    "### Sort the dataframe by 'contig' and 'position'\n",
    "#\n",
    "df_data = df_data.sort_values(by=['contig', 'position'])"
   ]
  },
  {
   "cell_type": "code",
   "execution_count": 47,
   "id": "85b2a3dd",
   "metadata": {
    "ExecuteTime": {
     "end_time": "2022-04-06T10:16:04.931578Z",
     "start_time": "2022-04-06T10:16:04.897983Z"
    }
   },
   "outputs": [
    {
     "name": "stdout",
     "output_type": "stream",
     "text": [
      "contig size (nb of position):\n",
      "\n"
     ]
    },
    {
     "data": {
      "text/plain": [
       "chr1    28\n",
       "chr2    26\n",
       "chr3     8\n",
       "Name: contig, dtype: int64"
      ]
     },
     "execution_count": 47,
     "metadata": {},
     "output_type": "execute_result"
    }
   ],
   "source": [
    "### Count the number of positions per chr/scaffold/contigs\n",
    "#\n",
    "print('contig size (nb of position):\\n')\n",
    "df_data.contig.value_counts()"
   ]
  },
  {
   "cell_type": "markdown",
   "id": "e8673c90",
   "metadata": {},
   "source": [
    "## by hand"
   ]
  },
  {
   "cell_type": "code",
   "execution_count": 48,
   "id": "06e6540f",
   "metadata": {
    "ExecuteTime": {
     "end_time": "2022-04-06T10:16:13.706129Z",
     "start_time": "2022-04-06T10:16:13.670160Z"
    },
    "scrolled": false
   },
   "outputs": [
    {
     "data": {
      "text/html": [
       "<div>\n",
       "<style scoped>\n",
       "    .dataframe tbody tr th:only-of-type {\n",
       "        vertical-align: middle;\n",
       "    }\n",
       "\n",
       "    .dataframe tbody tr th {\n",
       "        vertical-align: top;\n",
       "    }\n",
       "\n",
       "    .dataframe thead th {\n",
       "        text-align: right;\n",
       "    }\n",
       "</style>\n",
       "<table border=\"1\" class=\"dataframe\">\n",
       "  <thead>\n",
       "    <tr style=\"text-align: right;\">\n",
       "      <th></th>\n",
       "      <th>contig</th>\n",
       "      <th>position</th>\n",
       "      <th>depth</th>\n",
       "    </tr>\n",
       "  </thead>\n",
       "  <tbody>\n",
       "    <tr>\n",
       "      <th>0</th>\n",
       "      <td>chr1</td>\n",
       "      <td>1</td>\n",
       "      <td>4</td>\n",
       "    </tr>\n",
       "    <tr>\n",
       "      <th>1</th>\n",
       "      <td>chr1</td>\n",
       "      <td>2</td>\n",
       "      <td>11</td>\n",
       "    </tr>\n",
       "    <tr>\n",
       "      <th>2</th>\n",
       "      <td>chr1</td>\n",
       "      <td>3</td>\n",
       "      <td>12</td>\n",
       "    </tr>\n",
       "    <tr>\n",
       "      <th>3</th>\n",
       "      <td>chr1</td>\n",
       "      <td>4</td>\n",
       "      <td>15</td>\n",
       "    </tr>\n",
       "    <tr>\n",
       "      <th>4</th>\n",
       "      <td>chr1</td>\n",
       "      <td>5</td>\n",
       "      <td>18</td>\n",
       "    </tr>\n",
       "    <tr>\n",
       "      <th>...</th>\n",
       "      <td>...</td>\n",
       "      <td>...</td>\n",
       "      <td>...</td>\n",
       "    </tr>\n",
       "    <tr>\n",
       "      <th>57</th>\n",
       "      <td>chr3</td>\n",
       "      <td>4</td>\n",
       "      <td>10</td>\n",
       "    </tr>\n",
       "    <tr>\n",
       "      <th>58</th>\n",
       "      <td>chr3</td>\n",
       "      <td>5</td>\n",
       "      <td>9</td>\n",
       "    </tr>\n",
       "    <tr>\n",
       "      <th>59</th>\n",
       "      <td>chr3</td>\n",
       "      <td>6</td>\n",
       "      <td>10</td>\n",
       "    </tr>\n",
       "    <tr>\n",
       "      <th>60</th>\n",
       "      <td>chr3</td>\n",
       "      <td>7</td>\n",
       "      <td>8</td>\n",
       "    </tr>\n",
       "    <tr>\n",
       "      <th>61</th>\n",
       "      <td>chr3</td>\n",
       "      <td>8</td>\n",
       "      <td>9</td>\n",
       "    </tr>\n",
       "  </tbody>\n",
       "</table>\n",
       "<p>62 rows × 3 columns</p>\n",
       "</div>"
      ],
      "text/plain": [
       "   contig  position  depth\n",
       "0    chr1         1      4\n",
       "1    chr1         2     11\n",
       "2    chr1         3     12\n",
       "3    chr1         4     15\n",
       "4    chr1         5     18\n",
       "..    ...       ...    ...\n",
       "57   chr3         4     10\n",
       "58   chr3         5      9\n",
       "59   chr3         6     10\n",
       "60   chr3         7      8\n",
       "61   chr3         8      9\n",
       "\n",
       "[62 rows x 3 columns]"
      ]
     },
     "execution_count": 48,
     "metadata": {},
     "output_type": "execute_result"
    }
   ],
   "source": [
    "### Display the data. See the '../test/begraph-like_sample.txt' for a better\n",
    "#   readability.\n",
    "df_data"
   ]
  },
  {
   "cell_type": "markdown",
   "id": "f49f9ae4",
   "metadata": {},
   "source": [
    "Use case : we are looking for over-covered regions using the following parameters:\n",
    "- i)   a sliding window with a width of 3 positions\n",
    "- ii)  a coverage depth threshold of 11. The mean depth is computed on the sliding window and compared to this value\n",
    "- iii) a minimal size of 4 for a an over-covered region to be retained.\n",
    "\n",
    "The 3rd contig present no overcovered region. Only the following intervals satisfies the two first parameters :\n",
    "```\n",
    "contig start end length\n",
    "\n",
    "chr1   2    10    9\n",
    "chr1  14    21    7\n",
    "chr1  24    29    6\n",
    "chr2   1    11   11\n",
    "chr2  14    17    4\n",
    "chr2  21    23    3\n",
    "```\n",
    "\n",
    "But the last over-covered region is too short (len : 3 < min. over-covered region's length (4), thus this region is not kept. \n",
    "\n",
    "The over-covered regions are :\n",
    "\n",
    "```\n",
    "contig start end \n",
    "\n",
    "chr1   2    10   \n",
    "chr1  14    21   \n",
    "chr1  24    29   \n",
    "chr2   1    11  \n",
    "chr2  14    17   \n",
    "```"
   ]
  },
  {
   "cell_type": "markdown",
   "id": "51ee8762",
   "metadata": {},
   "source": [
    "## Computation"
   ]
  },
  {
   "cell_type": "code",
   "execution_count": 52,
   "id": "fe1d4161",
   "metadata": {
    "ExecuteTime": {
     "end_time": "2022-04-06T10:55:17.360605Z",
     "start_time": "2022-04-06T10:55:17.315131Z"
    },
    "scrolled": true
   },
   "outputs": [
    {
     "data": {
      "text/html": [
       "<div>\n",
       "<style scoped>\n",
       "    .dataframe tbody tr th:only-of-type {\n",
       "        vertical-align: middle;\n",
       "    }\n",
       "\n",
       "    .dataframe tbody tr th {\n",
       "        vertical-align: top;\n",
       "    }\n",
       "\n",
       "    .dataframe thead th {\n",
       "        text-align: right;\n",
       "    }\n",
       "</style>\n",
       "<table border=\"1\" class=\"dataframe\">\n",
       "  <thead>\n",
       "    <tr style=\"text-align: right;\">\n",
       "      <th></th>\n",
       "      <th>contig</th>\n",
       "      <th>start</th>\n",
       "      <th>end</th>\n",
       "      <th>length</th>\n",
       "      <th>median_depth</th>\n",
       "      <th>mean_depth</th>\n",
       "      <th>std_depth</th>\n",
       "    </tr>\n",
       "  </thead>\n",
       "  <tbody>\n",
       "    <tr>\n",
       "      <th>0</th>\n",
       "      <td>chr1</td>\n",
       "      <td>2</td>\n",
       "      <td>10</td>\n",
       "      <td>9</td>\n",
       "      <td>15.0</td>\n",
       "      <td>13.555556</td>\n",
       "      <td>4.786813</td>\n",
       "    </tr>\n",
       "    <tr>\n",
       "      <th>1</th>\n",
       "      <td>chr1</td>\n",
       "      <td>14</td>\n",
       "      <td>21</td>\n",
       "      <td>7</td>\n",
       "      <td>12.0</td>\n",
       "      <td>12.428571</td>\n",
       "      <td>4.237828</td>\n",
       "    </tr>\n",
       "    <tr>\n",
       "      <th>2</th>\n",
       "      <td>chr1</td>\n",
       "      <td>24</td>\n",
       "      <td>29</td>\n",
       "      <td>6</td>\n",
       "      <td>12.5</td>\n",
       "      <td>13.666667</td>\n",
       "      <td>3.197221</td>\n",
       "    </tr>\n",
       "    <tr>\n",
       "      <th>0</th>\n",
       "      <td>chr2</td>\n",
       "      <td>1</td>\n",
       "      <td>11</td>\n",
       "      <td>11</td>\n",
       "      <td>18.0</td>\n",
       "      <td>14.545455</td>\n",
       "      <td>4.831029</td>\n",
       "    </tr>\n",
       "    <tr>\n",
       "      <th>1</th>\n",
       "      <td>chr2</td>\n",
       "      <td>14</td>\n",
       "      <td>17</td>\n",
       "      <td>4</td>\n",
       "      <td>11.5</td>\n",
       "      <td>11.500000</td>\n",
       "      <td>1.118034</td>\n",
       "    </tr>\n",
       "    <tr>\n",
       "      <th>2</th>\n",
       "      <td>chr2</td>\n",
       "      <td>21</td>\n",
       "      <td>23</td>\n",
       "      <td>3</td>\n",
       "      <td>11.0</td>\n",
       "      <td>11.000000</td>\n",
       "      <td>0.816497</td>\n",
       "    </tr>\n",
       "  </tbody>\n",
       "</table>\n",
       "</div>"
      ],
      "text/plain": [
       "  contig  start  end  length  median_depth  mean_depth  std_depth\n",
       "0   chr1      2   10       9          15.0   13.555556   4.786813\n",
       "1   chr1     14   21       7          12.0   12.428571   4.237828\n",
       "2   chr1     24   29       6          12.5   13.666667   3.197221\n",
       "0   chr2      1   11      11          18.0   14.545455   4.831029\n",
       "1   chr2     14   17       4          11.5   11.500000   1.118034\n",
       "2   chr2     21   23       3          11.0   11.000000   0.816497"
      ]
     },
     "execution_count": 52,
     "metadata": {},
     "output_type": "execute_result"
    }
   ],
   "source": [
    "### set the parameters values\n",
    "#\n",
    "sliding_win_len = 3\n",
    "depth_thresh = 11\n",
    "region_min_len = 4\n",
    "\n",
    "\n",
    "### iterate through 'contigs' and look for over-covered regions\n",
    "#\n",
    "lst_df_overcov = []\n",
    "for contig in df_data.contig.unique():\n",
    "    df_contig = df_data[df_data.contig==contig]\n",
    "    lst_df_overcov.append(\n",
    "        find_overcov_regions(df_data[df_data.contig==contig],\n",
    "                             sliding_win_len=sliding_win_len,\n",
    "                             depth_thresh=depth_thresh,\n",
    "                            )\n",
    "    )\n",
    "    \n",
    "### create a pd.DataFrame containing the results for every contig\n",
    "#\n",
    "df_overcov_regions = pd.concat(lst_df_overcov)\n",
    "df_overcov_regions"
   ]
  },
  {
   "cell_type": "code",
   "execution_count": 53,
   "id": "0c0d753b",
   "metadata": {
    "ExecuteTime": {
     "end_time": "2022-04-06T10:55:27.790742Z",
     "start_time": "2022-04-06T10:55:27.750623Z"
    }
   },
   "outputs": [
    {
     "data": {
      "text/html": [
       "<div>\n",
       "<style scoped>\n",
       "    .dataframe tbody tr th:only-of-type {\n",
       "        vertical-align: middle;\n",
       "    }\n",
       "\n",
       "    .dataframe tbody tr th {\n",
       "        vertical-align: top;\n",
       "    }\n",
       "\n",
       "    .dataframe thead th {\n",
       "        text-align: right;\n",
       "    }\n",
       "</style>\n",
       "<table border=\"1\" class=\"dataframe\">\n",
       "  <thead>\n",
       "    <tr style=\"text-align: right;\">\n",
       "      <th></th>\n",
       "      <th>contig</th>\n",
       "      <th>start</th>\n",
       "      <th>end</th>\n",
       "      <th>length</th>\n",
       "      <th>median_depth</th>\n",
       "      <th>mean_depth</th>\n",
       "      <th>std_depth</th>\n",
       "    </tr>\n",
       "  </thead>\n",
       "  <tbody>\n",
       "    <tr>\n",
       "      <th>0</th>\n",
       "      <td>chr1</td>\n",
       "      <td>2</td>\n",
       "      <td>10</td>\n",
       "      <td>9</td>\n",
       "      <td>15.0</td>\n",
       "      <td>13.555556</td>\n",
       "      <td>4.786813</td>\n",
       "    </tr>\n",
       "    <tr>\n",
       "      <th>1</th>\n",
       "      <td>chr1</td>\n",
       "      <td>14</td>\n",
       "      <td>21</td>\n",
       "      <td>7</td>\n",
       "      <td>12.0</td>\n",
       "      <td>12.428571</td>\n",
       "      <td>4.237828</td>\n",
       "    </tr>\n",
       "    <tr>\n",
       "      <th>2</th>\n",
       "      <td>chr1</td>\n",
       "      <td>24</td>\n",
       "      <td>29</td>\n",
       "      <td>6</td>\n",
       "      <td>12.5</td>\n",
       "      <td>13.666667</td>\n",
       "      <td>3.197221</td>\n",
       "    </tr>\n",
       "    <tr>\n",
       "      <th>0</th>\n",
       "      <td>chr2</td>\n",
       "      <td>1</td>\n",
       "      <td>11</td>\n",
       "      <td>11</td>\n",
       "      <td>18.0</td>\n",
       "      <td>14.545455</td>\n",
       "      <td>4.831029</td>\n",
       "    </tr>\n",
       "    <tr>\n",
       "      <th>1</th>\n",
       "      <td>chr2</td>\n",
       "      <td>14</td>\n",
       "      <td>17</td>\n",
       "      <td>4</td>\n",
       "      <td>11.5</td>\n",
       "      <td>11.500000</td>\n",
       "      <td>1.118034</td>\n",
       "    </tr>\n",
       "  </tbody>\n",
       "</table>\n",
       "</div>"
      ],
      "text/plain": [
       "  contig  start  end  length  median_depth  mean_depth  std_depth\n",
       "0   chr1      2   10       9          15.0   13.555556   4.786813\n",
       "1   chr1     14   21       7          12.0   12.428571   4.237828\n",
       "2   chr1     24   29       6          12.5   13.666667   3.197221\n",
       "0   chr2      1   11      11          18.0   14.545455   4.831029\n",
       "1   chr2     14   17       4          11.5   11.500000   1.118034"
      ]
     },
     "execution_count": 53,
     "metadata": {},
     "output_type": "execute_result"
    }
   ],
   "source": [
    "### Remove regions that are too short\n",
    "#\n",
    "df_overcov_regions = df_overcov_regions[df_overcov_regions.length >= region_min_len]\n",
    "df_overcov_regions"
   ]
  }
 ],
 "metadata": {
  "kernelspec": {
   "display_name": "Python 3 (ipykernel)",
   "language": "python",
   "name": "python3"
  },
  "language_info": {
   "codemirror_mode": {
    "name": "ipython",
    "version": 3
   },
   "file_extension": ".py",
   "mimetype": "text/x-python",
   "name": "python",
   "nbconvert_exporter": "python",
   "pygments_lexer": "ipython3",
   "version": "3.9.9"
  },
  "toc": {
   "base_numbering": 1,
   "nav_menu": {},
   "number_sections": true,
   "sideBar": true,
   "skip_h1_title": false,
   "title_cell": "Table of Contents",
   "title_sidebar": "Contents",
   "toc_cell": false,
   "toc_position": {},
   "toc_section_display": true,
   "toc_window_display": false
  }
 },
 "nbformat": 4,
 "nbformat_minor": 5
}
